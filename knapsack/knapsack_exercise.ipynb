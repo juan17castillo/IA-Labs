{
  "cells": [
    {
      "cell_type": "markdown",
      "metadata": {
        "id": "Z77R-epE0yaH",
        "colab_type": "text"
      },
      "source": [
        "# Knapsack problem\n",
        "\n",
        "Integrante 1: Juan Manuel Castillo Herrera\n",
        "\n",
        "Given a list of items and a bag maximum capacity, find the best combination of items.\n",
        "\n",
        "The algorithm to complete:"
      ]
    },
    {
      "cell_type": "code",
      "metadata": {
        "id": "Iqigakkn0hXE",
        "colab_type": "code",
        "colab": {}
      },
      "source": [
        "import random\n",
        "import math\n",
        "\n",
        "class KnapsackGenetic:\n",
        "  def __init__(self, params):\n",
        "    self.ALL_NUMBERS = list(range(params[\"max_per_item\"] + 1))\n",
        "    self.params = params\n",
        "    self.specimen = [None] * self.params[\"generation_size\"]\n",
        "    self.create_initial_population()\n",
        "\n",
        "  def create_initial_population(self):\n",
        "    self.specimen = list(map(\n",
        "        lambda _: list(map(\n",
        "            lambda _: random.choice(self.ALL_NUMBERS),\n",
        "            [None] * len(self.params[\"items\"])\n",
        "        )),\n",
        "        self.specimen\n",
        "    ))\n",
        "    \n",
        "\n",
        "  def fitness(self, specimen):\n",
        "    items = self.params[\"items\"]\n",
        "    weights = [x*items[idx].weight  for idx, x in enumerate(specimen)]\n",
        "    values = [x*items[idx].value  for idx, x in enumerate(specimen)]\n",
        "    if(sum(weights)> self.params[\"max_weight\"]):\n",
        "      return 0\n",
        "    else:\n",
        "      return sum(values)*(sum(weights)/self.params[\"max_weight\"])\n",
        "\n",
        "\n",
        "  def is_converged(self):\n",
        "    if any(self.fitness(specimen) >= self.params[\"fit_threshold\"] for specimen in self.specimen):\n",
        "      return True\n",
        "\n",
        "    return False\n",
        "\n",
        "  def get_fit(self):\n",
        "    evaluations = self.fitness_all()\n",
        "    max_evaluation = max(evaluations)\n",
        "    max_index = evaluations.index(max_evaluation)\n",
        "    return self.specimen[max_index], max_evaluation\n",
        "\n",
        "  def fitness_all(self):\n",
        "    return list(map(self.fitness, self.specimen))\n",
        "\n",
        "  def select_specimen(self, specimen_evaluations):\n",
        "    specimen_and_evaluations = list(zip(self.specimen, specimen_evaluations))\n",
        "    specimen_and_evaluations.sort(key=lambda e: e[1], reverse = True)\n",
        "    n_top = int(math.ceil(len(self.specimen) * params[\"select_top\"]))\n",
        "    return list(map(lambda s: s[0], specimen_and_evaluations[:n_top]))\n",
        "  \n",
        "  def mutate(self, specimen):\n",
        "    n = int(params[\"mutation_percentage\"] * (len(specimen) - 1))\n",
        "    indexes = random.sample(list(range(len(specimen))), n)\n",
        "    mutated = specimen[:]\n",
        "    for idx in indexes:\n",
        "      mutated[idx] = random.choice(range(self.params[\"max_per_item\"]+1))\n",
        "    return mutated\n",
        "\n",
        "  def generate_children(self, selected_specimen):  \n",
        "    mutated_specimen = [None] * len(self.specimen)\n",
        "\n",
        "    for i in range(len(mutated_specimen)):\n",
        "      mutated_specimen[i] = self.mutate(random.choice(selected_specimen))\n",
        "\n",
        "    return mutated_specimen\n",
        "\n",
        "  def run(self):\n",
        "    generation_number = 1\n",
        "\n",
        "    while generation_number <= self.params[\"max_generations\"] and not self.is_converged():\n",
        "      top_generation = self.get_fit()\n",
        "      top_str = \"\".join(str(top_generation[0]))\n",
        "      \n",
        "      print(f\"Generation #{generation_number}:\\t{top_str}\\t{top_generation[1]}\")\n",
        "\n",
        "      specimen_evaluations = self.fitness_all()\n",
        "      selected_specimen = self.select_specimen(specimen_evaluations)\n",
        "      \n",
        "      self.specimen = self.generate_children(selected_specimen)\n",
        "      \n",
        "      generation_number += 1\n",
        "    \n",
        "    return self.get_fit()\n"
      ],
      "execution_count": 1,
      "outputs": []
    },
    {
      "cell_type": "markdown",
      "metadata": {
        "id": "hnHAziSc1ChK",
        "colab_type": "text"
      },
      "source": [
        "To run the algorithm:"
      ]
    },
    {
      "cell_type": "code",
      "metadata": {
        "id": "_ssF5Z6S1FQ6",
        "colab_type": "code",
        "colab": {
          "base_uri": "https://localhost:8080/",
          "height": 349
        },
        "outputId": "6e48c80f-4ed7-49f3-e872-150e3198fab0"
      },
      "source": [
        "class Item:\n",
        "  def __init__(self, value, weight):\n",
        "    self.value = value\n",
        "    self.weight = weight\n",
        "\n",
        "params = {\n",
        "    \"mutation_percentage\": 0.5,\n",
        "    \"select_top\": 0.05,\n",
        "    \"generation_size\": 20,\n",
        "    \"fit_threshold\": 36,\n",
        "    \"max_generations\": 100,\n",
        "    \"max_weight\": 15,\n",
        "    \"max_per_item\": 3,\n",
        "    \"items\": [Item(4, 12), Item(2, 2), Item(2, 1), Item(1, 1), Item(10,4)]\n",
        "}\n",
        "\n",
        "knapsack = KnapsackGenetic(params)\n",
        "knapsack.run()"
      ],
      "execution_count": 8,
      "outputs": [
        {
          "output_type": "stream",
          "name": "stdout",
          "text": "Generation #1:\t[0, 2, 2, 0, 2]\t26.133333333333333\nGeneration #2:\t[0, 1, 2, 3, 2]\t29.0\nGeneration #3:\t[0, 1, 2, 3, 2]\t29.0\nGeneration #4:\t[0, 1, 2, 1, 2]\t23.400000000000002\nGeneration #5:\t[0, 1, 2, 3, 2]\t29.0\nGeneration #6:\t[0, 1, 2, 3, 2]\t29.0\nGeneration #7:\t[0, 1, 2, 3, 2]\t29.0\nGeneration #8:\t[0, 1, 2, 3, 2]\t29.0\nGeneration #9:\t[0, 1, 2, 3, 2]\t29.0\nGeneration #10:\t[0, 2, 2, 1, 2]\t29.0\nGeneration #11:\t[0, 2, 2, 1, 2]\t29.0\nGeneration #12:\t[0, 1, 2, 2, 2]\t26.133333333333333\nGeneration #13:\t[0, 1, 3, 2, 2]\t30.0\nGeneration #14:\t[0, 1, 3, 2, 2]\t30.0\nGeneration #15:\t[0, 1, 3, 1, 2]\t27.066666666666666\nGeneration #16:\t[0, 1, 3, 1, 2]\t27.066666666666666\nGeneration #17:\t[0, 1, 0, 1, 3]\t33.0\nGeneration #18:\t[0, 0, 2, 1, 3]\t35.0\nGeneration #19:\t[0, 0, 0, 3, 3]\t33.0\nGeneration #20:\t[0, 0, 2, 1, 3]\t35.0\nGeneration #21:\t[0, 0, 2, 1, 3]\t35.0\nGeneration #22:\t[0, 0, 2, 1, 3]\t35.0\nGeneration #23:\t[0, 0, 2, 1, 3]\t35.0\nGeneration #24:\t[0, 0, 2, 1, 3]\t35.0\nGeneration #25:\t[0, 0, 0, 3, 3]\t33.0\n"
        },
        {
          "output_type": "execute_result",
          "data": {
            "text/plain": "([0, 0, 3, 0, 3], 36.0)"
          },
          "metadata": {},
          "execution_count": 8
        }
      ]
    },
    {
      "cell_type": "code",
      "execution_count": null,
      "metadata": {},
      "outputs": [],
      "source": []
    }
  ],
  "metadata": {
    "colab": {
      "name": "knapsack-exercise.ipynb",
      "provenance": [],
      "collapsed_sections": []
    },
    "kernelspec": {
      "name": "python3",
      "display_name": "Python 3"
    }
  },
  "nbformat": 4,
  "nbformat_minor": 0
}